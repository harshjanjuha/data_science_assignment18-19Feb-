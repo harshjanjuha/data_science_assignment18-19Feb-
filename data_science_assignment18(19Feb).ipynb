{
 "cells": [
  {
   "cell_type": "markdown",
   "id": "103a1644",
   "metadata": {},
   "source": [
    "# Assignment 18\n"
   ]
  },
  {
   "cell_type": "markdown",
   "id": "ccc4c6ae",
   "metadata": {},
   "source": [
    "Q1. What is Flask Framework? What are the advantages of Flask Framework?\n",
    "\n",
    "Ans. Flask is a micro web framework written in Python that allows developers to build web applications quickly and with minimal overhead. It is lightweight and modular, providing only the essential features needed for building web applications.\n",
    "\n",
    "Advantages of Flask Framework:\n",
    "\n",
    "Lightweight: Flask is a lightweight framework that doesn't come with a lot of unnecessary features or dependencies, making it fast and easy to work with.\n",
    "\n",
    "Modular: Flask is designed to be modular, which means that developers can add new functionality as needed, making it flexible and customizable.\n",
    "\n",
    "Easy to learn: Flask has a simple and intuitive API, making it easy for developers to learn and use.\n",
    "\n",
    "Flexible: Flask allows developers to use any database, templating engine, or other third-party library they prefer, providing maximum flexibility.\n",
    "\n",
    "Extensible: Flask has a robust extension system that makes it easy to add new functionality to the framework, such as support for authentication, testing, or debugging.\n",
    "\n",
    "Well-documented: Flask has comprehensive documentation that covers everything from getting started to advanced features, making it easy for developers to find the information they need.\n",
    "\n",
    "Overall, Flask is an excellent choice for developers who want a lightweight, flexible, and easy-to-use framework for building web applications."
   ]
  },
  {
   "cell_type": "markdown",
   "id": "90ae2584",
   "metadata": {},
   "source": [
    "Q2. Create a simple Flask application to display ‘Hello World!!’. Attach the screenshot of the output in\n",
    "Jupyter Notebook.\n",
    "\n",
    "Ans.\n"
   ]
  },
  {
   "cell_type": "code",
   "execution_count": null,
   "id": "f93d131c",
   "metadata": {},
   "outputs": [],
   "source": [
    "\n",
    "from  flask import Flask\n",
    "\n",
    "app = Flask(__name__)\n",
    "\n",
    "@app.route(\"/\")\n",
    "def hello():\n",
    "    return \"hello world\"\n",
    "\n",
    "if __name__ == \"__main__\":\n",
    "    app.run(host=\"0.0.0.0\")\n",
    "    \n",
    "# output is ::::::>>>>>"
   ]
  },
  {
   "cell_type": "markdown",
   "id": "219e66fe",
   "metadata": {},
   "source": [
    "![image description](hello_world.jpg)"
   ]
  },
  {
   "cell_type": "markdown",
   "id": "223b3b4f",
   "metadata": {},
   "source": [
    "Q3. What is App routing in Flask? Why do we use app routes?\n",
    "\n",
    "Ans.In Flask, app routing is the process of associating a URL with a Python function, which is known as a view function. When a user visits a URL, Flask uses the associated view function to generate the response.\n",
    "\n",
    "We use app routes in Flask to create a RESTful API. This allows us to define multiple endpoints for our application and map each endpoint to a corresponding view function. By using app routes, we can easily handle different HTTP methods (GET, POST, PUT, DELETE, etc.) and parameters passed through the URL or the request body. App routes also help in organizing the codebase and making it easier to maintain.\n"
   ]
  },
  {
   "cell_type": "markdown",
   "id": "de30ea10",
   "metadata": {},
   "source": [
    "Q4. Create a “/welcome” route to display the welcome message “Welcome to ABC Corporation” and a “/”\n",
    "route to show the following details:\n",
    "\n",
    "Company Name: ABC Corporation\n",
    "\n",
    "Location: India\n",
    "\n",
    "Contact Detail: 999-999-9999"
   ]
  },
  {
   "cell_type": "code",
   "execution_count": 7,
   "id": "f292e80f",
   "metadata": {},
   "outputs": [
    {
     "name": "stdout",
     "output_type": "stream",
     "text": [
      " * Serving Flask app \"__main__\" (lazy loading)\n",
      " * Environment: production\n",
      "\u001b[31m   WARNING: This is a development server. Do not use it in a production deployment.\u001b[0m\n",
      "\u001b[2m   Use a production WSGI server instead.\u001b[0m\n",
      " * Debug mode: off\n"
     ]
    },
    {
     "name": "stderr",
     "output_type": "stream",
     "text": [
      " * Running on all addresses.\n",
      "   WARNING: This is a development server. Do not use it in a production deployment.\n",
      " * Running on http://192.168.18.5:5000/ (Press CTRL+C to quit)\n",
      "192.168.18.5 - - [05/Mar/2023 22:32:29] \"GET / HTTP/1.1\" 200 -\n",
      "192.168.18.5 - - [05/Mar/2023 22:32:30] \"GET /favicon.ico HTTP/1.1\" 404 -\n",
      "192.168.18.5 - - [05/Mar/2023 22:32:37] \"GET /welcome HTTP/1.1\" 200 -\n",
      "192.168.18.5 - - [05/Mar/2023 22:33:43] \"GET / HTTP/1.1\" 200 -\n",
      "192.168.18.5 - - [05/Mar/2023 22:34:14] \"GET /welcome HTTP/1.1\" 200 -\n"
     ]
    }
   ],
   "source": [
    "app1 = Flask(__name__)\n",
    "\n",
    "@app1.route('/')\n",
    "def company():\n",
    "    return 'Company Name: ABC Corporation<br>Location: India<br>Contact Detail: 999-999-9999'\n",
    "\n",
    "@app1.route('/welcome')\n",
    "def welcome():\n",
    "    return 'Welcome to ABC Corporation'\n",
    "\n",
    "if __name__ == \"__main__\":\n",
    "    app.run(host=\"0.0.0.0\")"
   ]
  },
  {
   "cell_type": "markdown",
   "id": "70c1033e",
   "metadata": {},
   "source": [
    "![image description](company.jpg)\n",
    "![image description](welcome.jpg)\n"
   ]
  },
  {
   "cell_type": "markdown",
   "id": "29c2ea5c",
   "metadata": {},
   "source": [
    "Q5. What function is used in Flask for URL Building? Write a Python code to demonstrate the working of the\n",
    "url_for() function.\n",
    "\n",
    "Ans. The url_for() function is used in Flask for URL building. It generates a URL to a specific function dynamically based on the endpoint name and other arguments passed to it."
   ]
  },
  {
   "cell_type": "code",
   "execution_count": 16,
   "id": "e392dcdc",
   "metadata": {},
   "outputs": [
    {
     "name": "stdout",
     "output_type": "stream",
     "text": [
      "home  URL is :  /\n",
      "index  URL is :  /index1\n"
     ]
    }
   ],
   "source": [
    "from flask import Flask , url_for\n",
    "\n",
    "app2= Flask(__name__)\n",
    "\n",
    "@app.route('/')\n",
    "\n",
    "def home1():\n",
    "    return \"this is home \"\n",
    "\n",
    "@app.route('/index1')\n",
    "def index1():\n",
    "    return \" Index page\"\n",
    "\n",
    "if __name__ == \"__main__\":\n",
    "    with app.test_request_context():\n",
    "        home_url=url_for('home1')\n",
    "        index_url=url_for('index1')\n",
    "        print(\"home  URL is : \",home_url)\n",
    "        print(\"index  URL is : \",index_url)"
   ]
  },
  {
   "cell_type": "code",
   "execution_count": null,
   "id": "5d8fc6c8",
   "metadata": {},
   "outputs": [],
   "source": []
  }
 ],
 "metadata": {
  "kernelspec": {
   "display_name": "Python 3 (ipykernel)",
   "language": "python",
   "name": "python3"
  },
  "language_info": {
   "codemirror_mode": {
    "name": "ipython",
    "version": 3
   },
   "file_extension": ".py",
   "mimetype": "text/x-python",
   "name": "python",
   "nbconvert_exporter": "python",
   "pygments_lexer": "ipython3",
   "version": "3.9.12"
  }
 },
 "nbformat": 4,
 "nbformat_minor": 5
}
